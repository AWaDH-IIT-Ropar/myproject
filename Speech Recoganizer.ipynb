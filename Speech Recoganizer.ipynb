{
 "cells": [
  {
   "cell_type": "code",
   "execution_count": 6,
   "metadata": {},
   "outputs": [],
   "source": [
    "import speech_recognition as sr\n",
    "import pyttsx3 # It is a text-to-speech conversion library in Python. Unlike alternative libraries, it works offline, and is compatible with both Python 2 and 3.\n",
    "\n",
    "r = sr.Recognizer()\n",
    "mic = sr.Microphone(device_index = 1)\n",
    "with mic as source:\n",
    "    audio = r.listen(source)\n",
    "\n",
    "def speak(message):\n",
    "    engine = pyttsx3.init()\n",
    "    rate = engine.getProperty('rate')\n",
    "    engine.setProperty('rate', rate - 10)\n",
    "    engine.say ('Rohit says {}'.format(message))\n",
    "    engine.runAndWait()\n",
    "#print(r.recognize_google(audio))\n",
    "speak(r.recognize_google(audio))"
   ]
  }
 ],
 "metadata": {
  "kernelspec": {
   "display_name": "Python 3",
   "language": "python",
   "name": "python3"
  }
 },
 "nbformat": 4,
 "nbformat_minor": 4
}
