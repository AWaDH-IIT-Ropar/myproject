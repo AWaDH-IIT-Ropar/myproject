{
 "cells": [
  {
   "cell_type": "code",
   "execution_count": 9,
   "metadata": {},
   "outputs": [
    {
     "name": "stdout",
     "output_type": "stream",
     "text": [
      "Pass\n",
      "Fail\n",
      "Pass\n",
      "Pass\n",
      "Top  Score\n",
      "Fail\n"
     ]
    }
   ],
   "source": [
    "def exam(score):\n",
    "    if (score > 95):\n",
    "        grade = \"Top  Score\"\n",
    "    elif (score >= 60):\n",
    "        grade = \"Pass\"\n",
    "    else: \n",
    "        grade = \"Fail\"\n",
    "    return grade\n",
    "\n",
    "print(exam(65))\n",
    "print(exam(55))\n",
    "print(exam(60))\n",
    "print(exam(95))\n",
    "print(exam(100))\n",
    "print(exam(0))"
   ]
  },
  {
   "cell_type": "code",
   "execution_count": 10,
   "metadata": {},
   "outputs": [
    {
     "name": "stdout",
     "output_type": "stream",
     "text": [
      "55\n"
     ]
    }
   ],
   "source": [
    "import math \n",
    "def sum_divisor(num) : \n",
    "    result = 0\n",
    "    i = 2\n",
    "    while i<= (math.sqrt(num)) : \n",
    "        if (num % i == 0) : \n",
    "            if (i == (num / i)) : \n",
    "                result = result + i \n",
    "            else : \n",
    "                result = int(result +  (i + num/i)) \n",
    "        i = i + 1\n",
    "    return (result + 1) \n",
    "print(sum_divisor(36))"
   ]
  },
  {
   "cell_type": "code",
   "execution_count": null,
   "metadata": {},
   "outputs": [],
   "source": []
  }
 ],
 "metadata": {
  "kernelspec": {
   "display_name": "Python 3",
   "language": "python",
   "name": "python3"
  },
  "language_info": {
   "codemirror_mode": {
    "name": "ipython",
    "version": 3
   },
   "file_extension": ".py",
   "mimetype": "text/x-python",
   "name": "python",
   "nbconvert_exporter": "python",
   "pygments_lexer": "ipython3",
   "version": "3.7.7"
  }
 },
 "nbformat": 4,
 "nbformat_minor": 4
}
